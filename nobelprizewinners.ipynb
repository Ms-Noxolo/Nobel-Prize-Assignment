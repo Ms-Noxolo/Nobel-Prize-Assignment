{
 "cells": [
  {
   "cell_type": "markdown",
   "metadata": {
    "colab_type": "text",
    "id": "3oj2kkJeLgXt"
   },
   "source": [
    "# Nobel prizes"
   ]
  },
  {
   "cell_type": "markdown",
   "metadata": {
    "colab_type": "text",
    "id": "JQ2z3hFyLgXu"
   },
   "source": [
    "# 1. Loading the data\n",
    "<p><img style=\"float: right;margin:5px 20px 5px 1px; max-width:250px\" src=\"https://s3.amazonaws.com/assets.datacamp.com/production/project_441/img/Nobel_Prize.png\"></p>\n",
    "<p>The Nobel Prize is perhaps the world's most well known scientific award. Except for the honor, prestige and substantial prize money the recipient also gets a gold medal showing Alfred Nobel (1833 - 1896) who established the prize. Every year it's given to scientists and scholars in the categories chemistry, literature, physics, physiology or medicine, economics, and peace. The first Nobel Prize was handed out in 1901, and at that time the Prize was very Eurocentric and male-focused, but nowadays it's not biased in any way whatsoever. Surely. Right?</p>\n",
    "<p>Well, we're going to find out! The Nobel Foundation has made a dataset available of all prize winners from the start of the prize, in 1901, to 2016. Let's load it in and take a look.</p>"
   ]
  },
  {
   "cell_type": "code",
   "execution_count": 1,
   "metadata": {
    "colab": {},
    "colab_type": "code",
    "id": "6n_NXUb6LgXv"
   },
   "outputs": [],
   "source": [
    "# Loading in required libraries: you will need pandas, seaborn and numpy\n",
    "# ... YOUR CODE FOR TASK 1 ...\n",
    "\n",
    "# Reading in the Nobel Prize data\n",
    "nobel = ... \n",
    "\n",
    "# Explore the data - are there missing values? How many entries do we have?\n",
    "# ... YOUR CODE FOR TASK 1 ...\n"
   ]
  },
  {
   "cell_type": "code",
   "execution_count": 2,
   "metadata": {},
   "outputs": [],
   "source": [
    "import numpy as np\n",
    "import seaborn as sns\n",
    "import pandas as pd"
   ]
  },
  {
   "cell_type": "code",
   "execution_count": 3,
   "metadata": {
    "scrolled": false
   },
   "outputs": [
    {
     "name": "stdout",
     "output_type": "stream",
     "text": [
      "<class 'pandas.core.frame.DataFrame'>\n",
      "RangeIndex: 911 entries, 0 to 910\n",
      "Data columns (total 18 columns):\n",
      "year                    911 non-null int64\n",
      "category                911 non-null object\n",
      "prize                   911 non-null object\n",
      "motivation              823 non-null object\n",
      "prize_share             911 non-null object\n",
      "laureate_id             911 non-null int64\n",
      "laureate_type           911 non-null object\n",
      "full_name               911 non-null object\n",
      "birth_date              883 non-null object\n",
      "birth_city              883 non-null object\n",
      "birth_country           885 non-null object\n",
      "sex                     885 non-null object\n",
      "organization_name       665 non-null object\n",
      "organization_city       667 non-null object\n",
      "organization_country    667 non-null object\n",
      "death_date              593 non-null object\n",
      "death_city              576 non-null object\n",
      "death_country           582 non-null object\n",
      "dtypes: int64(2), object(16)\n",
      "memory usage: 128.2+ KB\n",
      "None\n"
     ]
    }
   ],
   "source": [
    "import pandas as pd\n",
    "nobel = pd.read_csv(\"nobel.csv\")\n",
    "print(nobel.info())"
   ]
  },
  {
   "cell_type": "code",
   "execution_count": 4,
   "metadata": {},
   "outputs": [
    {
     "data": {
      "text/plain": [
       "year                      0\n",
       "category                  0\n",
       "prize                     0\n",
       "motivation               88\n",
       "prize_share               0\n",
       "laureate_id               0\n",
       "laureate_type             0\n",
       "full_name                 0\n",
       "birth_date               28\n",
       "birth_city               28\n",
       "birth_country            26\n",
       "sex                      26\n",
       "organization_name       246\n",
       "organization_city       244\n",
       "organization_country    244\n",
       "death_date              318\n",
       "death_city              335\n",
       "death_country           329\n",
       "dtype: int64"
      ]
     },
     "execution_count": 4,
     "metadata": {},
     "output_type": "execute_result"
    }
   ],
   "source": [
    "nobel.isnull().sum()"
   ]
  },
  {
   "cell_type": "markdown",
   "metadata": {},
   "source": [
    "The nobel dataset has 911 entries, some of which have missing values"
   ]
  },
  {
   "cell_type": "markdown",
   "metadata": {
    "colab_type": "text",
    "id": "8iWouA3lLgXy"
   },
   "source": [
    "## 2. So, who gets the Nobel Prize?\n",
    "<p>Just looking at the first couple of prize winners, or Nobel laureates as they are also called, we already see a celebrity: Wilhelm Conrad Röntgen, the guy who discovered X-rays. And actually, we see that all of the winners in 1901 were guys that came from Europe. But that was back in 1901, looking at all winners in the dataset, from 1901 to 2016, which sex and which country is the most commonly represented? </p>\n",
    "<p>(For <em>country</em>, we will use the <code>birth_country</code> of the winner, as the <code>organization_country</code> is <code>NaN</code> for all shared Nobel Prizes.)</p>"
   ]
  },
  {
   "cell_type": "code",
   "execution_count": 5,
   "metadata": {
    "colab": {},
    "colab_type": "code",
    "id": "mAPuUU4OLgXz"
   },
   "outputs": [],
   "source": [
    "# Display the number of (possibly shared) Nobel Prizes handed\n",
    "# out between 1901 and 2016\n",
    "# ... YOUR CODE FOR TASK 2 ...\n",
    "\n",
    "# Display the number of prizes won by male and female recipients.\n",
    "# ... YOUR CODE FOR TASK 2 ...\n",
    "\n",
    "# Display the number of prizes won by the top 10 nationalities.\n",
    "# ... YOUR CODE FOR TASK 2 ..."
   ]
  },
  {
   "cell_type": "code",
   "execution_count": 6,
   "metadata": {},
   "outputs": [
    {
     "data": {
      "text/plain": [
       "1/1    344\n",
       "1/2    306\n",
       "1/3    201\n",
       "1/4     60\n",
       "Name: prize_share, dtype: int64"
      ]
     },
     "execution_count": 6,
     "metadata": {},
     "output_type": "execute_result"
    }
   ],
   "source": [
    "nobel['prize_share'].value_counts()"
   ]
  },
  {
   "cell_type": "code",
   "execution_count": 7,
   "metadata": {},
   "outputs": [
    {
     "data": {
      "text/plain": [
       "Male      836\n",
       "Female     49\n",
       "Name: sex, dtype: int64"
      ]
     },
     "execution_count": 7,
     "metadata": {},
     "output_type": "execute_result"
    }
   ],
   "source": [
    "nobel['sex'].value_counts()"
   ]
  },
  {
   "cell_type": "code",
   "execution_count": 8,
   "metadata": {},
   "outputs": [
    {
     "data": {
      "text/plain": [
       "United States of America                         259\n",
       "United Kingdom                                    85\n",
       "Germany                                           61\n",
       "France                                            51\n",
       "Sweden                                            29\n",
       "Japan                                             24\n",
       "Canada                                            18\n",
       "Netherlands                                       18\n",
       "Italy                                             17\n",
       "Russia                                            17\n",
       "Switzerland                                       16\n",
       "Austria                                           14\n",
       "Norway                                            12\n",
       "China                                             11\n",
       "Denmark                                           11\n",
       "Australia                                         10\n",
       "Belgium                                            9\n",
       "South Africa                                       9\n",
       "Scotland                                           9\n",
       "Germany (Poland)                                   8\n",
       "Spain                                              7\n",
       "India                                              7\n",
       "Prussia (Germany)                                  7\n",
       "Hungary                                            6\n",
       "Egypt                                              6\n",
       "British Mandate of Palestine (Israel)              5\n",
       "Northern Ireland                                   5\n",
       "Prussia (Poland)                                   5\n",
       "Russian Empire (Poland)                            5\n",
       "Ireland                                            5\n",
       "                                                ... \n",
       "East Friesland (Germany)                           1\n",
       "Morocco                                            1\n",
       "Costa Rica                                         1\n",
       "Union of Soviet Socialist Republics (Belarus)      1\n",
       "Hungary (Slovakia)                                 1\n",
       "Hesse-Kassel (Germany)                             1\n",
       "W&uuml;rttemberg (Germany)                         1\n",
       "Nigeria                                            1\n",
       "Crete (Greece)                                     1\n",
       "Czechoslovakia (Czech Republic)                    1\n",
       "Poland (Lithuania)                                 1\n",
       "Cyprus                                             1\n",
       "German-occupied Poland (Poland)                    1\n",
       "Peru                                               1\n",
       "Iran                                               1\n",
       "Austria-Hungary (Ukraine)                          1\n",
       "Free City of Danzig (Poland)                       1\n",
       "Ottoman Empire (Republic of Macedonia)             1\n",
       "Trinidad                                           1\n",
       "Saint Lucia                                        1\n",
       "Ukraine                                            1\n",
       "Russian Empire (Latvia)                            1\n",
       "Austria-Hungary (Austria)                          1\n",
       "Russian Empire (Lithuania)                         1\n",
       "Taiwan                                             1\n",
       "Russian Empire (Azerbaijan)                        1\n",
       "Austria-Hungary (Poland)                           1\n",
       "Brazil                                             1\n",
       "Madagascar                                         1\n",
       "Prussia (Russia)                                   1\n",
       "Name: birth_country, Length: 121, dtype: int64"
      ]
     },
     "execution_count": 8,
     "metadata": {},
     "output_type": "execute_result"
    }
   ],
   "source": [
    "nobel[\"birth_country\"].value_counts()"
   ]
  },
  {
   "cell_type": "markdown",
   "metadata": {
    "colab_type": "text",
    "id": "HTA6zz6ILgX1"
   },
   "source": [
    "Which countries win most often?\n",
    "\n",
    "* United States of America                    259\n",
    "* United Kingdom                               85\n",
    "* Germany                                      61\n",
    "* France                                       51\n",
    "* Sweden                                       29\n",
    "* Japan                                        24\n",
    "* Netherlands                                  18\n",
    "* Canada                                       18\n",
    "* Russia                                       17\n",
    "* Italy                                        17"
   ]
  },
  {
   "cell_type": "markdown",
   "metadata": {
    "colab_type": "text",
    "id": "plyn3XAXLgX2"
   },
   "source": [
    "## 3. USA dominance\n",
    "<p>Not so surprising perhaps: the most common Nobel laureate between 1901 and 2016 was a man born in the United States of America. But in 1901 all the winners were European. When did the USA start to dominate the Nobel Prize charts?</p>\n",
    "    "
   ]
  },
  {
   "cell_type": "code",
   "execution_count": 9,
   "metadata": {
    "colab": {},
    "colab_type": "code",
    "id": "pyr8QN8ELgX2",
    "outputId": "7d9341e1-4f79-43b3-c31d-703fc2a78d88"
   },
   "outputs": [
    {
     "name": "stdout",
     "output_type": "stream",
     "text": [
      "decade\n",
      "1900    0.017544\n",
      "1910    0.075000\n",
      "1920    0.074074\n",
      "1930    0.250000\n",
      "1940    0.302326\n",
      "1950    0.291667\n",
      "1960    0.265823\n",
      "1970    0.317308\n",
      "1980    0.319588\n",
      "1990    0.403846\n",
      "2000    0.422764\n",
      "2010    0.292683\n",
      "Name: usa_born_winner, dtype: float64\n"
     ]
    }
   ],
   "source": [
    "# Calculating the proportion of USA born winners per decade\n",
    "import numpy as np\n",
    "nobel['usa_born_winner'] = nobel['birth_country'] == \"United States of America\"\n",
    "\n",
    "#nobel['decade'] = np.floor(nobel.groupby('year')).astype(int)\n",
    "import math\n",
    "nobel['decade'] = (np.floor(nobel.year / 10.0) * 10).astype(int)\n",
    "#print(nobel['decade'])\n",
    "prop_usa_winners = nobel.groupby('decade')[\"usa_born_winner\"].mean()\n",
    "\n",
    "# Display the proportions of USA born winners per decade\n",
    "# ... YOUR CODE FOR TASK 3 ...\n",
    "print(prop_usa_winners)"
   ]
  },
  {
   "cell_type": "markdown",
   "metadata": {},
   "source": [
    "Floor fucntion helped up round up the numer value of the 'year' to the nearest integer below the given value.i.e 1901-2016. \n",
    "\n",
    "We needed to round up the value of the year because to get to avg usa_born_winner per decade, the years 1901 to 2016 have to be split to decades.i.e 10 years make up 1 decade.\n",
    "\n",
    "Hence,nobel['decade'] = np.floor(nobel.year / 10.0) * 10.astype(int) to get the rounded up decade values.\n",
    "\n",
    "sum() function adds all the values that occur in a given decade,\n",
    "whereas mean() funtiongives us the average value in a given decade.\n",
    "\n",
    "next time use lambda doe!!!"
   ]
  },
  {
   "cell_type": "markdown",
   "metadata": {
    "colab_type": "text",
    "id": "qJWECeNSLgX8"
   },
   "source": [
    "## 4. USA dominance, visualized\n",
    "<p>A table is OK, but to <em>see</em> when the USA started to dominate the Nobel charts we need a plot!</p>"
   ]
  },
  {
   "cell_type": "code",
   "execution_count": 48,
   "metadata": {
    "colab": {},
    "colab_type": "code",
    "id": "BG1IzfHULgX9"
   },
   "outputs": [
    {
     "data": {
      "text/plain": [
       "Text(0.5, 1.0, 'The Proportion of US winners per decade')"
      ]
     },
     "execution_count": 48,
     "metadata": {},
     "output_type": "execute_result"
    },
    {
     "data": {
      "image/png": "[encoded data removed]",
      "text/plain": [
       "<Figure size 432x288 with 1 Axes>"
      ]
     },
     "metadata": {
      "needs_background": "light"
     },
     "output_type": "display_data"
    }
   ],
   "source": [
    "#using seaborn, plot the proportion of US winners by decade\n",
    "import seaborn as sns\n",
    "import matplotlib.pyplot as plt\n",
    "#prop_usa_winners = nobel.groupby('decade')[\"usa_born_winner\"].mean()\n",
    "#sns.lmplot(x=\"decade\",y=\"usa_born_winner\", data = prop_usa_winners)\n",
    "sns.barplot(x=nobel['decade'], y=nobel['usa_born_winner'])\n",
    "plt.title('The Proportion of US winners per decade', fontsize=10)"
   ]
  },
  {
   "cell_type": "markdown",
   "metadata": {
    "colab_type": "text",
    "id": "K0yrBrqzLgX_"
   },
   "source": [
    "What can you conclude from the graph?\n",
    "\n",
    "* USA started to dominate in the last decade\n",
    "* The values calculated are all proportioned thus I used a histogram to displayu the results as it it good for displaying variant values i.e. one of two or more values which exhibit usually slight differences"
   ]
  },
  {
   "cell_type": "markdown",
   "metadata": {
    "colab_type": "text",
    "id": "lNmRYEqLLgYA"
   },
   "source": [
    "## 5. What is the gender of a typical Nobel Prize winner?\n",
    "<p>So the USA became the dominating winner of the Nobel Prize first in the 1930s and had kept the leading position ever since. But one group that was in the lead from the start, and never seems to let go, are <em>men</em>. Maybe it shouldn't come as a shock that there is some imbalance between how many male and female prize winners there are, but how significant is this imbalance? And is it better or worse within specific prize categories like physics, medicine, literature, etc.?</p>"
   ]
  },
  {
   "cell_type": "code",
   "execution_count": 11,
   "metadata": {
    "colab": {},
    "colab_type": "code",
    "id": "Os3hu3BGLgYB",
    "outputId": "1b524b18-0edb-491a-cef9-0adc2be1d37b"
   },
   "outputs": [],
   "source": [
    "# Calculating the proportion of female laureates per decade\n",
    "\n",
    "nobel['female_winner'] = nobel['sex'] == \"Female\"\n",
    "prop_female_winners = nobel.groupby('decade')[\"female_winner\"].mean()\n",
    "\n",
    "# Plot proportion of female winners by decade, grouped by prize category (physics, medicine, etc)\n",
    "# ... YOUR CODE FOR TASK 5 ..."
   ]
  },
  {
   "cell_type": "markdown",
   "metadata": {},
   "source": [
    "* Another method of getting the average is to sum the number of females and divide it by the number of all the sexes. i.e.\n",
    "\n",
    "* prop_female_winners = sum(nobel['female_winner']/'sex')\n",
    "* print(prop_female_winners)"
   ]
  },
  {
   "cell_type": "code",
   "execution_count": 12,
   "metadata": {},
   "outputs": [
    {
     "name": "stdout",
     "output_type": "stream",
     "text": [
      "decade\n",
      "1900    0.052632\n",
      "1910    0.025000\n",
      "1920    0.037037\n",
      "1930    0.053571\n",
      "1940    0.069767\n",
      "1950    0.000000\n",
      "1960    0.037975\n",
      "1970    0.038462\n",
      "1980    0.041237\n",
      "1990    0.067308\n",
      "2000    0.089431\n",
      "2010    0.097561\n",
      "Name: female_winner, dtype: float64\n"
     ]
    }
   ],
   "source": [
    "print(prop_female_winners)"
   ]
  },
  {
   "cell_type": "code",
   "execution_count": 43,
   "metadata": {},
   "outputs": [
    {
     "data": {
      "text/plain": [
       "Text(0.5, 1.0, 'The proportion of female winners per decade, grouped by prize category')"
      ]
     },
     "execution_count": 43,
     "metadata": {},
     "output_type": "execute_result"
    },
    {
     "data": {
      "image/png": "[encoded data removed]",
      "text/plain": [
       "<Figure size 432x288 with 1 Axes>"
      ]
     },
     "metadata": {
      "needs_background": "light"
     },
     "output_type": "display_data"
    }
   ],
   "source": [
    "sns.lineplot(x = 'decade', y ='female_winner', hue = 'category', data= nobel)\n",
    "plt.title('The proportion of female winners per decade, grouped by prize category', fontsize=12.5)"
   ]
  },
  {
   "cell_type": "markdown",
   "metadata": {
    "colab_type": "text",
    "id": "3n8uKBeQLgYE"
   },
   "source": [
    "\n",
    "\n",
    "```\n",
    "# This is formatted as code\n",
    "```\n",
    "\n",
    " Interpret your plot here\n",
    " \n",
    " * In the 1950 decade, there were no nobel price female winners.\n",
    " This could be because more males were dominating o because there were other external factors that prevented the females from partaking in activities that could lead them to being Nobel Prize Candidates\n",
    " * Line plot was used it can take in many arguments i.e. category"
   ]
  },
  {
   "cell_type": "markdown",
   "metadata": {
    "colab_type": "text",
    "id": "bECCDRHOLgYF"
   },
   "source": [
    "## 6. The first woman to win the Nobel Prize\n",
    "<p>The plot above is a bit messy as the lines are overplotting. But it does show some interesting trends and patterns. Overall the imbalance is pretty large with physics, economics, and chemistry having the largest imbalance. Medicine has a somewhat positive trend, and since the 1990s the literature prize is also now more balanced. The big outlier is the peace prize during the 2010s, but keep in mind that this just covers the years 2010 to 2016.</p>\n",
    "<p>Given this imbalance, who was the first woman to receive a Nobel Prize? And in what category?</p>\n"
   ]
  },
  {
   "cell_type": "code",
   "execution_count": 14,
   "metadata": {
    "colab": {},
    "colab_type": "code",
    "id": "fr17tW7kLgYG"
   },
   "outputs": [],
   "source": [
    "# Picking out the first woman to win a Nobel Prize\n",
    "# ... YOUR CODE FOR TASK 6 ..."
   ]
  },
  {
   "cell_type": "code",
   "execution_count": 15,
   "metadata": {},
   "outputs": [
    {
     "data": {
      "text/html": [
       "<div>\n",
       "<style scoped>\n",
       "    .dataframe tbody tr th:only-of-type {\n",
       "        vertical-align: middle;\n",
       "    }\n",
       "\n",
       "    .dataframe tbody tr th {\n",
       "        vertical-align: top;\n",
       "    }\n",
       "\n",
       "    .dataframe thead th {\n",
       "        text-align: right;\n",
       "    }\n",
       "</style>\n",
       "<table border=\"1\" class=\"dataframe\">\n",
       "  <thead>\n",
       "    <tr style=\"text-align: right;\">\n",
       "      <th></th>\n",
       "      <th>year</th>\n",
       "      <th>category</th>\n",
       "      <th>prize</th>\n",
       "      <th>motivation</th>\n",
       "      <th>prize_share</th>\n",
       "      <th>laureate_id</th>\n",
       "      <th>laureate_type</th>\n",
       "      <th>full_name</th>\n",
       "      <th>birth_date</th>\n",
       "      <th>birth_city</th>\n",
       "      <th>...</th>\n",
       "      <th>sex</th>\n",
       "      <th>organization_name</th>\n",
       "      <th>organization_city</th>\n",
       "      <th>organization_country</th>\n",
       "      <th>death_date</th>\n",
       "      <th>death_city</th>\n",
       "      <th>death_country</th>\n",
       "      <th>usa_born_winner</th>\n",
       "      <th>decade</th>\n",
       "      <th>female_winner</th>\n",
       "    </tr>\n",
       "  </thead>\n",
       "  <tbody>\n",
       "    <tr>\n",
       "      <th>19</th>\n",
       "      <td>1903</td>\n",
       "      <td>Physics</td>\n",
       "      <td>The Nobel Prize in Physics 1903</td>\n",
       "      <td>\"in recognition of the extraordinary services ...</td>\n",
       "      <td>1/4</td>\n",
       "      <td>6</td>\n",
       "      <td>Individual</td>\n",
       "      <td>Marie Curie, née Sklodowska</td>\n",
       "      <td>1867-11-07</td>\n",
       "      <td>Warsaw</td>\n",
       "      <td>...</td>\n",
       "      <td>Female</td>\n",
       "      <td>NaN</td>\n",
       "      <td>NaN</td>\n",
       "      <td>NaN</td>\n",
       "      <td>1934-07-04</td>\n",
       "      <td>Sallanches</td>\n",
       "      <td>France</td>\n",
       "      <td>False</td>\n",
       "      <td>1900</td>\n",
       "      <td>True</td>\n",
       "    </tr>\n",
       "    <tr>\n",
       "      <th>29</th>\n",
       "      <td>1905</td>\n",
       "      <td>Peace</td>\n",
       "      <td>The Nobel Peace Prize 1905</td>\n",
       "      <td>NaN</td>\n",
       "      <td>1/1</td>\n",
       "      <td>468</td>\n",
       "      <td>Individual</td>\n",
       "      <td>Baroness Bertha Sophie Felicita von Suttner, n...</td>\n",
       "      <td>1843-06-09</td>\n",
       "      <td>Prague</td>\n",
       "      <td>...</td>\n",
       "      <td>Female</td>\n",
       "      <td>NaN</td>\n",
       "      <td>NaN</td>\n",
       "      <td>NaN</td>\n",
       "      <td>1914-06-21</td>\n",
       "      <td>Vienna</td>\n",
       "      <td>Austria</td>\n",
       "      <td>False</td>\n",
       "      <td>1900</td>\n",
       "      <td>True</td>\n",
       "    </tr>\n",
       "    <tr>\n",
       "      <th>51</th>\n",
       "      <td>1909</td>\n",
       "      <td>Literature</td>\n",
       "      <td>The Nobel Prize in Literature 1909</td>\n",
       "      <td>\"in appreciation of the lofty idealism, vivid ...</td>\n",
       "      <td>1/1</td>\n",
       "      <td>579</td>\n",
       "      <td>Individual</td>\n",
       "      <td>Selma Ottilia Lovisa Lagerlöf</td>\n",
       "      <td>1858-11-20</td>\n",
       "      <td>Mårbacka</td>\n",
       "      <td>...</td>\n",
       "      <td>Female</td>\n",
       "      <td>NaN</td>\n",
       "      <td>NaN</td>\n",
       "      <td>NaN</td>\n",
       "      <td>1940-03-16</td>\n",
       "      <td>Mårbacka</td>\n",
       "      <td>Sweden</td>\n",
       "      <td>False</td>\n",
       "      <td>1900</td>\n",
       "      <td>True</td>\n",
       "    </tr>\n",
       "    <tr>\n",
       "      <th>62</th>\n",
       "      <td>1911</td>\n",
       "      <td>Chemistry</td>\n",
       "      <td>The Nobel Prize in Chemistry 1911</td>\n",
       "      <td>\"in recognition of her services to the advance...</td>\n",
       "      <td>1/1</td>\n",
       "      <td>6</td>\n",
       "      <td>Individual</td>\n",
       "      <td>Marie Curie, née Sklodowska</td>\n",
       "      <td>1867-11-07</td>\n",
       "      <td>Warsaw</td>\n",
       "      <td>...</td>\n",
       "      <td>Female</td>\n",
       "      <td>Sorbonne University</td>\n",
       "      <td>Paris</td>\n",
       "      <td>France</td>\n",
       "      <td>1934-07-04</td>\n",
       "      <td>Sallanches</td>\n",
       "      <td>France</td>\n",
       "      <td>False</td>\n",
       "      <td>1910</td>\n",
       "      <td>True</td>\n",
       "    </tr>\n",
       "    <tr>\n",
       "      <th>128</th>\n",
       "      <td>1926</td>\n",
       "      <td>Literature</td>\n",
       "      <td>The Nobel Prize in Literature 1926</td>\n",
       "      <td>\"for her idealistically inspired writings whic...</td>\n",
       "      <td>1/1</td>\n",
       "      <td>597</td>\n",
       "      <td>Individual</td>\n",
       "      <td>Grazia Deledda</td>\n",
       "      <td>1871-09-27</td>\n",
       "      <td>Nuoro, Sardinia</td>\n",
       "      <td>...</td>\n",
       "      <td>Female</td>\n",
       "      <td>NaN</td>\n",
       "      <td>NaN</td>\n",
       "      <td>NaN</td>\n",
       "      <td>1936-08-15</td>\n",
       "      <td>Rome</td>\n",
       "      <td>Italy</td>\n",
       "      <td>False</td>\n",
       "      <td>1920</td>\n",
       "      <td>True</td>\n",
       "    </tr>\n",
       "  </tbody>\n",
       "</table>\n",
       "<p>5 rows × 21 columns</p>\n",
       "</div>"
      ],
      "text/plain": [
       "     year    category                               prize  \\\n",
       "19   1903     Physics     The Nobel Prize in Physics 1903   \n",
       "29   1905       Peace          The Nobel Peace Prize 1905   \n",
       "51   1909  Literature  The Nobel Prize in Literature 1909   \n",
       "62   1911   Chemistry   The Nobel Prize in Chemistry 1911   \n",
       "128  1926  Literature  The Nobel Prize in Literature 1926   \n",
       "\n",
       "                                            motivation prize_share  \\\n",
       "19   \"in recognition of the extraordinary services ...         1/4   \n",
       "29                                                 NaN         1/1   \n",
       "51   \"in appreciation of the lofty idealism, vivid ...         1/1   \n",
       "62   \"in recognition of her services to the advance...         1/1   \n",
       "128  \"for her idealistically inspired writings whic...         1/1   \n",
       "\n",
       "     laureate_id laureate_type  \\\n",
       "19             6    Individual   \n",
       "29           468    Individual   \n",
       "51           579    Individual   \n",
       "62             6    Individual   \n",
       "128          597    Individual   \n",
       "\n",
       "                                             full_name  birth_date  \\\n",
       "19                         Marie Curie, née Sklodowska  1867-11-07   \n",
       "29   Baroness Bertha Sophie Felicita von Suttner, n...  1843-06-09   \n",
       "51                       Selma Ottilia Lovisa Lagerlöf  1858-11-20   \n",
       "62                         Marie Curie, née Sklodowska  1867-11-07   \n",
       "128                                     Grazia Deledda  1871-09-27   \n",
       "\n",
       "          birth_city  ...     sex    organization_name organization_city  \\\n",
       "19            Warsaw  ...  Female                  NaN               NaN   \n",
       "29            Prague  ...  Female                  NaN               NaN   \n",
       "51          Mårbacka  ...  Female                  NaN               NaN   \n",
       "62            Warsaw  ...  Female  Sorbonne University             Paris   \n",
       "128  Nuoro, Sardinia  ...  Female                  NaN               NaN   \n",
       "\n",
       "    organization_country  death_date  death_city death_country  \\\n",
       "19                   NaN  1934-07-04  Sallanches        France   \n",
       "29                   NaN  1914-06-21      Vienna       Austria   \n",
       "51                   NaN  1940-03-16    Mårbacka        Sweden   \n",
       "62                France  1934-07-04  Sallanches        France   \n",
       "128                  NaN  1936-08-15        Rome         Italy   \n",
       "\n",
       "    usa_born_winner  decade  female_winner  \n",
       "19            False    1900           True  \n",
       "29            False    1900           True  \n",
       "51            False    1900           True  \n",
       "62            False    1910           True  \n",
       "128           False    1920           True  \n",
       "\n",
       "[5 rows x 21 columns]"
      ]
     },
     "execution_count": 15,
     "metadata": {},
     "output_type": "execute_result"
    }
   ],
   "source": [
    "First_Woman_Winner = nobel[(nobel['sex'] == \"Female\")]\n",
    "First_Woman_Winner.head()"
   ]
  },
  {
   "cell_type": "markdown",
   "metadata": {},
   "source": [
    " .head() function gives us the first 5 entries of the women winner. From the list of 5, it is easy to pick out who was the first winner.\n",
    " * The First Woman Winner is Marie Curie, née Sklodowska"
   ]
  },
  {
   "cell_type": "markdown",
   "metadata": {
    "colab_type": "text",
    "id": "HnHekZkQLgYJ"
   },
   "source": [
    "## 7. Repeat laureates\n",
    "<p>For most scientists/writers/activists a Nobel Prize would be the crowning achievement of a long career. But for some people, one is just not enough, and few have gotten it more than once. Who are these lucky few? (Having won no Nobel Prize myself, I'll assume it's just about luck.)</p>"
   ]
  },
  {
   "cell_type": "code",
   "execution_count": 16,
   "metadata": {
    "colab": {},
    "colab_type": "code",
    "id": "0unfnOb7LgYM"
   },
   "outputs": [
    {
     "name": "stdout",
     "output_type": "stream",
     "text": [
      "Comité international de la Croix Rouge (International Committee of the Red Cross)    3\n",
      "Office of the United Nations High Commissioner for Refugees (UNHCR)                  2\n",
      "John Bardeen                                                                         2\n",
      "Marie Curie, née Sklodowska                                                          2\n",
      "Linus Carl Pauling                                                                   2\n",
      "Frederick Sanger                                                                     2\n",
      "Arthur Holly Compton                                                                 1\n",
      "United Nations Children's Fund (UNICEF)                                              1\n",
      "Ernest Miller Hemingway                                                              1\n",
      "International Campaign to Ban Landmines (ICBL)                                       1\n",
      "Robert Bárány                                                                        1\n",
      "Christopher A. Sims                                                                  1\n",
      "Sir Edward Victor Appleton                                                           1\n",
      "William Butler Yeats                                                                 1\n",
      "Leon M. Lederman                                                                     1\n",
      "Gerhard Domagk                                                                       1\n",
      "Kofi Annan                                                                           1\n",
      "Santiago Ramón y Cajal                                                               1\n",
      "Thomas A. Steitz                                                                     1\n",
      "Glenn Theodore Seaborg                                                               1\n",
      "Peyton Rous                                                                          1\n",
      "Alice Munro                                                                          1\n",
      "Nelly Sachs                                                                          1\n",
      "John Hume                                                                            1\n",
      "Rodney R. Porter                                                                     1\n",
      "Frédéric Joliot                                                                      1\n",
      "Irving Langmuir                                                                      1\n",
      "Wassily Leontief                                                                     1\n",
      "George E. Smith                                                                      1\n",
      "Carl Ferdinand Cori                                                                  1\n",
      "                                                                                    ..\n",
      "Stanford Moore                                                                       1\n",
      "Archer John Porter Martin                                                            1\n",
      "Artturi Ilmari Virtanen                                                              1\n",
      "Baruch S. Blumberg                                                                   1\n",
      "Igor Yevgenyevich Tamm                                                               1\n",
      "Friedrich August von Hayek                                                           1\n",
      "David M. Lee                                                                         1\n",
      "Aziz Sancar                                                                          1\n",
      "Victor Grignard                                                                      1\n",
      "Pieter Zeeman                                                                        1\n",
      "David Baltimore                                                                      1\n",
      "Roger B. Myerson                                                                     1\n",
      "Adolfo Pérez Esquivel                                                                1\n",
      "Salvador E. Luria                                                                    1\n",
      "George Wald                                                                          1\n",
      "Friends Service Council (The Quakers)                                                1\n",
      "Jody Williams                                                                        1\n",
      "Ivar Giaever                                                                         1\n",
      "Gerald M. Edelman                                                                    1\n",
      "Eugene Gladstone O'Neill                                                             1\n",
      "Aung San Suu Kyi                                                                     1\n",
      "Juan Ramón Jiménez                                                                   1\n",
      "Ronald George Wreyford Norrish                                                       1\n",
      "Max Theiler                                                                          1\n",
      "Derek H. R. Barton                                                                   1\n",
      "Lord Rayleigh (John William Strutt)                                                  1\n",
      "John B. Fenn                                                                         1\n",
      "Paul Sabatier                                                                        1\n",
      "Bertram N. Brockhouse                                                                1\n",
      "Hans Karl August Simon von Euler-Chelpin                                             1\n",
      "Name: full_name, Length: 904, dtype: int64\n"
     ]
    }
   ],
   "source": [
    "# Selecting the laureates that have received 2 or more prizes.\n",
    "# ... YOUR CODE FOR TASK 7 ...\n",
    "laureates = nobel['full_name'].value_counts()\n",
    "print(laureates)\n",
    "#nobel.groupby('full_name').full_name.count() == 2\n"
   ]
  },
  {
   "cell_type": "markdown",
   "metadata": {
    "colab_type": "text",
    "id": "Q_o5qBesLgYT"
   },
   "source": [
    "How many people have received 2 or more prizes?\n",
    "\n",
    "4 people. 2 organizations\n",
    "* Comité international de la Croix Rouge (International Committee of the Red Cross)    3\n",
    "* Linus Carl Pauling                                                                   2\n",
    "* Frederick Sanger                                                                     2\n",
    "* Office of the United Nations High Commissioner for Refugees (UNHCR)                  2\n",
    "* Marie Curie, née Sklodowska                                                          2\n",
    "* John Bardeen                                                                         2"
   ]
  },
  {
   "cell_type": "markdown",
   "metadata": {
    "colab_type": "text",
    "id": "LQ3gth_3LgYT"
   },
   "source": [
    "## 8. How old are you when you get the prize?\n",
    "<p>The list of repeat winners contains some illustrious names! We again meet Marie Curie, who got the prize in physics for discovering radiation and in chemistry for isolating radium and polonium. John Bardeen got it twice in physics for transistors and superconductivity, Frederick Sanger got it twice in chemistry, and Linus Carl Pauling got it first in chemistry and later in peace for his work in promoting nuclear disarmament. We also learn that organizations also get the prize as both the Red Cross and the UNHCR have gotten it twice.</p>\n",
    "<p>But how old are you generally when you get the prize?</p>"
   ]
  },
  {
   "cell_type": "code",
   "execution_count": 26,
   "metadata": {
    "colab": {},
    "colab_type": "code",
    "id": "kahpyBNzLgYU"
   },
   "outputs": [
    {
     "name": "stdout",
     "output_type": "stream",
     "text": [
      "<class 'pandas.core.frame.DataFrame'>\n",
      "RangeIndex: 911 entries, 0 to 910\n",
      "Data columns (total 22 columns):\n",
      "year                    911 non-null int64\n",
      "category                911 non-null object\n",
      "prize                   911 non-null object\n",
      "motivation              823 non-null object\n",
      "prize_share             911 non-null object\n",
      "laureate_id             911 non-null int64\n",
      "laureate_type           911 non-null object\n",
      "full_name               911 non-null object\n",
      "birth_date              883 non-null datetime64[ns]\n",
      "birth_city              883 non-null object\n",
      "birth_country           885 non-null object\n",
      "sex                     885 non-null object\n",
      "organization_name       665 non-null object\n",
      "organization_city       667 non-null object\n",
      "organization_country    667 non-null object\n",
      "death_date              593 non-null object\n",
      "death_city              576 non-null object\n",
      "death_country           582 non-null object\n",
      "usa_born_winner         911 non-null bool\n",
      "decade                  911 non-null int32\n",
      "female_winner           911 non-null bool\n",
      "age                     883 non-null float64\n",
      "dtypes: bool(2), datetime64[ns](1), float64(1), int32(1), int64(2), object(15)\n",
      "memory usage: 140.6+ KB\n"
     ]
    }
   ],
   "source": [
    "# Converting birth_date from String to datetime\n",
    "from datetime import datetime\n",
    "import pandas as pd\n",
    "nobel['birth_date'] = pd.to_datetime(nobel['birth_date'])\n",
    "#print(type(nobel['birth_date']))\n",
    "nobel.info()"
   ]
  },
  {
   "cell_type": "markdown",
   "metadata": {},
   "source": [
    "* First I imported datetime from datetime, then used the pd.to_datetime function to convert the birth_time column to datetime\n",
    "\n",
    "* dt.year was then used to extract the age in the birth_date column. As this is a function that can subtract the datetime from the year if dataframe and and varibales are well defined"
   ]
  },
  {
   "cell_type": "code",
   "execution_count": 27,
   "metadata": {},
   "outputs": [
    {
     "name": "stdout",
     "output_type": "stream",
     "text": [
      "0      49.0\n",
      "1      62.0\n",
      "2      47.0\n",
      "3      73.0\n",
      "4      79.0\n",
      "5      56.0\n",
      "6      50.0\n",
      "7      85.0\n",
      "8      45.0\n",
      "9      69.0\n",
      "10     59.0\n",
      "11     49.0\n",
      "12     37.0\n",
      "13     44.0\n",
      "14     71.0\n",
      "15     43.0\n",
      "16     75.0\n",
      "17     51.0\n",
      "18     44.0\n",
      "19     36.0\n",
      "20     52.0\n",
      "21     74.0\n",
      "22     72.0\n",
      "23     55.0\n",
      "24      NaN\n",
      "25     62.0\n",
      "26     70.0\n",
      "27     59.0\n",
      "28     62.0\n",
      "29     62.0\n",
      "       ... \n",
      "881    75.0\n",
      "882    51.0\n",
      "883    52.0\n",
      "884    60.0\n",
      "885    17.0\n",
      "886    85.0\n",
      "887    54.0\n",
      "888    60.0\n",
      "889    77.0\n",
      "890    69.0\n",
      "891    69.0\n",
      "892    70.0\n",
      "893    67.0\n",
      "894    85.0\n",
      "895    80.0\n",
      "896    85.0\n",
      "897     NaN\n",
      "898    56.0\n",
      "899    72.0\n",
      "900    72.0\n",
      "901    74.0\n",
      "902    65.0\n",
      "903    68.0\n",
      "904    67.0\n",
      "905    75.0\n",
      "906    71.0\n",
      "907    65.0\n",
      "908    82.0\n",
      "909    65.0\n",
      "910    73.0\n",
      "Name: age, Length: 911, dtype: float64\n"
     ]
    }
   ],
   "source": [
    "# Calculating the age of Nobel Prize winners\n",
    "nobel['age'] = nobel['year'] - nobel['birth_date'].dt.year\n",
    "print(nobel['age'])"
   ]
  },
  {
   "cell_type": "markdown",
   "metadata": {},
   "source": [
    "In question 1, numpy was imported as np, thus I was able to use it to do the following calculations i.e. mean and standard deviation"
   ]
  },
  {
   "cell_type": "code",
   "execution_count": 33,
   "metadata": {},
   "outputs": [
    {
     "data": {
      "text/plain": [
       "60.0"
      ]
     },
     "execution_count": 33,
     "metadata": {},
     "output_type": "execute_result"
    }
   ],
   "source": [
    "# What is the mean age of winners and it's standard devation? What is the median age?\n",
    "nobel['age'].median()"
   ]
  },
  {
   "cell_type": "code",
   "execution_count": 34,
   "metadata": {},
   "outputs": [
    {
     "data": {
      "text/plain": [
       "12.39929042786365"
      ]
     },
     "execution_count": 34,
     "metadata": {},
     "output_type": "execute_result"
    }
   ],
   "source": [
    "nobel['age'].std()"
   ]
  },
  {
   "cell_type": "markdown",
   "metadata": {
    "colab_type": "text",
    "id": "JRO7eu1jLgYX"
   },
   "source": [
    "## 9. Age differences between prize categories\n"
   ]
  },
  {
   "cell_type": "code",
   "execution_count": 42,
   "metadata": {
    "colab": {},
    "colab_type": "code",
    "id": "X7X2waCALgYY"
   },
   "outputs": [
    {
     "data": {
      "text/plain": [
       "Text(0.5, 1.0, 'The Nobal Candidates over the last 12 decades')"
      ]
     },
     "execution_count": 42,
     "metadata": {},
     "output_type": "execute_result"
    },
    {
     "data": {
      "image/png": "[encoded data removed]",
      "text/plain": [
       "<Figure size 432x288 with 1 Axes>"
      ]
     },
     "metadata": {
      "needs_background": "light"
     },
     "output_type": "display_data"
    }
   ],
   "source": [
    "#Plot the age of nobel candidates by decade\n",
    "#YOUR CODE FOR TASK 9 ...\n",
    "\n",
    "sns.barplot(x=nobel['decade'], y=nobel['age'])\n",
    "plt.title('The Nobal Candidates over the last 12 decades', fontsize=12.5)"
   ]
  },
  {
   "cell_type": "code",
   "execution_count": 58,
   "metadata": {},
   "outputs": [
    {
     "data": {
      "text/plain": [
       "Text(0.5, 1.0, 'The Categories of Nobal Candidates over the last 12 decades')"
      ]
     },
     "execution_count": 58,
     "metadata": {},
     "output_type": "execute_result"
    },
    {
     "data": {
      "image/png": "[encoded data removed]",
      "text/plain": [
       "<Figure size 432x288 with 1 Axes>"
      ]
     },
     "metadata": {
      "needs_background": "light"
     },
     "output_type": "display_data"
    }
   ],
   "source": [
    "# Plot the age of nobel candidates by decade and prize category\n",
    "sns.lineplot(x=nobel['decade'], y=nobel['age'], hue =nobel['category'])\n",
    "plt.title('The Categories of Nobal Candidates over the last 12 decades', fontsize=12.5)"
   ]
  },
  {
   "cell_type": "markdown",
   "metadata": {
    "colab_type": "text",
    "id": "CmDtQ5msLgYd"
   },
   "source": [
    "What can you conclude about the age at which people win different types of Nobel Prizes?\n",
    "* The peace category has no under 50 year olds, mostly between 60-70 year olds\n",
    "* Whereas the physics category had more young people i.e. under 50 year olds"
   ]
  },
  {
   "cell_type": "markdown",
   "metadata": {
    "colab_type": "text",
    "id": "JT1wmBWRLgYf"
   },
   "source": [
    "## 10. Oldest and youngest winners\n",
    "<p>In the peace category there is a winner around 2010 that seems exceptionally young. This begs the questions, who are the oldest and youngest people ever to have won a Nobel Prize?</p>"
   ]
  },
  {
   "cell_type": "code",
   "execution_count": null,
   "metadata": {},
   "outputs": [],
   "source": [
    "Old = nobel.age.max()\n",
    "Young = nobel('age').min()\n",
    "print(Old)\n",
    "print(Young)"
   ]
  },
  {
   "cell_type": "code",
   "execution_count": null,
   "metadata": {},
   "outputs": [],
   "source": []
  },
  {
   "cell_type": "markdown",
   "metadata": {
    "colab_type": "text",
    "id": "6BStEi3JLgYg"
   },
   "source": [
    "## Congratulations! You've reached the end of the challenge!"
   ]
  }
 ],
 "metadata": {
  "colab": {
   "name": "nobelprizewinners.ipynb",
   "provenance": [],
   "version": "0.3.2"
  },
  "kernelspec": {
   "display_name": "Python 3",
   "language": "python",
   "name": "python3"
  },
  "language_info": {
   "codemirror_mode": {
    "name": "ipython",
    "version": 3
   },
   "file_extension": ".py",
   "mimetype": "text/x-python",
   "name": "python",
   "nbconvert_exporter": "python",
   "pygments_lexer": "ipython3",
   "version": "3.7.3"
  }
 },
 "nbformat": 4,
 "nbformat_minor": 1
}
